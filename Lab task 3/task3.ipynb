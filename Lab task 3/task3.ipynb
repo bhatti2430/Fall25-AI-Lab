{
 "cells": [
  {
   "cell_type": "code",
   "execution_count": 48,
   "id": "919ba1bb",
   "metadata": {},
   "outputs": [
    {
     "name": "stdout",
     "output_type": "stream",
     "text": [
      "Living Room (20°C): Turn off AC\n",
      "Drawing Room (22°C): Turn off AC\n",
      "Kitchen (34°C): Turn on AC\n",
      "Store Room (26°C): Turn on AC\n",
      "Bed Room (24°C): Turn off AC\n"
     ]
    }
   ],
   "source": [
    "class ModelBasedReflexAgent:\n",
    "    def __init__(self, fixed_temp):\n",
    "        self.fixed_temp = fixed_temp\n",
    "        self.last_actions = {}\n",
    "\n",
    "    def sensor(self, room, temp):\n",
    "        self.current_temp = temp\n",
    "        self.current_room = room\n",
    "\n",
    "    def performance(self):\n",
    "        if self.current_temp > self.fixed_temp:\n",
    "            action = \"Turn on AC\"\n",
    "        else:\n",
    "            action = \"Turn off AC\"\n",
    "\n",
    "        \n",
    "        if self.current_room in self.last_actions:\n",
    "            if self.last_actions[self.current_room] == action:\n",
    "                action = \"Do nothing\"  \n",
    "\n",
    "        \n",
    "        self.last_actions[self.current_room] = action if action != \"Do nothing\" else self.last_actions[self.current_room]\n",
    "        return action\n",
    "\n",
    "    def actuator(self):\n",
    "        action = self.performance()\n",
    "        print(f\"{self.current_room} ({self.current_temp}°C): {action}\")\n",
    "\n",
    "\n",
    "\n",
    "rooms = {\n",
    "    \"Living Room\": 20,\n",
    "    \"Drawing Room\": 22,\n",
    "    \"Kitchen\": 34,\n",
    "    \"Store Room\": 26,\n",
    "    \"Bed Room\": 24,\n",
    "}\n",
    "\n",
    "\n",
    "agent = ModelBasedReflexAgent(25)\n",
    "for room, temp in rooms.items():\n",
    "    agent.sensor(room, temp)\n",
    "    agent.actuator()\n"
   ]
  }
 ],
 "metadata": {
  "kernelspec": {
   "display_name": "base",
   "language": "python",
   "name": "python3"
  },
  "language_info": {
   "codemirror_mode": {
    "name": "ipython",
    "version": 3
   },
   "file_extension": ".py",
   "mimetype": "text/x-python",
   "name": "python",
   "nbconvert_exporter": "python",
   "pygments_lexer": "ipython3",
   "version": "3.12.4"
  }
 },
 "nbformat": 4,
 "nbformat_minor": 5
}
