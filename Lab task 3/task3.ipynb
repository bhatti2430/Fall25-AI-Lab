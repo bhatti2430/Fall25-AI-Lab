{
 "cells": [
  {
   "cell_type": "code",
   "execution_count": 37,
   "id": "0ea047c5",
   "metadata": {},
   "outputs": [
    {
     "name": "stdout",
     "output_type": "stream",
     "text": [
      "[Living Room] 20°C:Turn OFF AC\n",
      "[Drawing Room] 22°C:Turn OFF AC\n",
      "[Kitchen] 34°C:Turn ON AC\n",
      "[Store Room] 26°C:Turn ON AC\n",
      "[Bedroom] 24°C:Turn OFF AC\n",
      "[Living Room] 20°C:No change needed (already recorded 20°C in Living Room)\n",
      "[Kitchen] 34°C:No change needed (already recorded 34°C in Kitchen)\n"
     ]
    }
   ],
   "source": [
    "class ModelBasedReflexAgent:\n",
    "    def __init__(self, desired_temp):\n",
    "        self.desired_temp = desired_temp\n",
    "        self.last_action = {}       \n",
    "        self.temp_history = {}          \n",
    "        \n",
    "    def sensor(self, room, temperature):\n",
    "        self.current_room = room\n",
    "        self.current_temp = temperature\n",
    "\n",
    "    def action(self):\n",
    "        room, temp = self.current_room, self.current_temp\n",
    "        if room in self.temp_history and temp in self.temp_history[room]:\n",
    "            return f\"No change needed (already recorded {temp}°C in {room})\"\n",
    "\n",
    "        \n",
    "        if temp > self.desired_temp:\n",
    "            action = \"Turn ON AC\"\n",
    "        else:\n",
    "            action = \"Turn OFF AC\"\n",
    "\n",
    "        if room in self.last_action and self.last_action[room] == action:\n",
    "            action = \"Do nothing\"\n",
    "\n",
    "        self.temp_history.setdefault(room, []).append(temp)\n",
    "\n",
    "        if action != \"Do nothing\":\n",
    "            self.last_action[room] = action\n",
    "        return action\n",
    "\n",
    "    def actuator(self):\n",
    "        action = self.action()\n",
    "        print(f\"[{self.current_room}] {self.current_temp}°C:{action}\")\n",
    "\n",
    "\n",
    "rooms_data = [\n",
    "    (\"Living Room\", 20),\n",
    "    (\"Drawing Room\", 22),\n",
    "    (\"Kitchen\", 34),\n",
    "    (\"Store Room\", 26),\n",
    "    (\"Bedroom\", 24),\n",
    "    (\"Living Room\", 20),   \n",
    "    (\"Kitchen\", 34),       \n",
    "]\n",
    "\n",
    "agent = ModelBasedReflexAgent(25)\n",
    "for room, temp in rooms_data:\n",
    "    agent.sensor(room, temp)\n",
    "    agent.actuator()\n"
   ]
  }
 ],
 "metadata": {
  "kernelspec": {
   "display_name": "base",
   "language": "python",
   "name": "python3"
  },
  "language_info": {
   "codemirror_mode": {
    "name": "ipython",
    "version": 3
   },
   "file_extension": ".py",
   "mimetype": "text/x-python",
   "name": "python",
   "nbconvert_exporter": "python",
   "pygments_lexer": "ipython3",
   "version": "3.12.4"
  }
 },
 "nbformat": 4,
 "nbformat_minor": 5
}
