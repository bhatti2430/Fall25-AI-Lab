{
 "cells": [
  {
   "cell_type": "markdown",
   "id": "17cb5729",
   "metadata": {},
   "source": [
    "### Muhammad Awais Asghar\n",
    "### SU92-BSAIM-F24-065\n",
    "### BSAI-3A"
   ]
  },
  {
   "cell_type": "code",
   "execution_count": null,
   "id": "4b1633e0",
   "metadata": {},
   "outputs": [],
   "source": [
    "import sympy as sp\n",
    "import re\n",
    "\n",
    "class MyCalc:\n",
    "    def __init__(self):\n",
    "        self.funcs = {\n",
    "            \"sin\": lambda x: sp.sin(x*sp.pi/180),\n",
    "            \"cos\": lambda x: sp.cos(x*sp.pi/180),\n",
    "            \"tan\": lambda x: sp.tan(x*sp.pi/180),\n",
    "            \"log\": lambda x: sp.log(x, 10),\n",
    "            \"ln\": sp.log,\n",
    "            \"sqrt\": sp.sqrt,\n",
    "            \"pi\": sp.pi,\n",
    "            \"e\": sp.E\n",
    "        }\n",
    "\n",
    "    def fix_expr(self, txt):\n",
    "        \n",
    "        txt = txt.replace(\"×\", \"*\").replace(\"÷\", \"/\").replace(\"^\", \"**\").replace(\"π\", \"pi\")\n",
    "       \n",
    "        txt = re.sub(r\"(\\d)(\\()\", r\"\\1*\\2\", txt)\n",
    "        txt = re.sub(r\"(\\))(\\()\", r\"\\1*\\2\", txt)\n",
    "        return txt\n",
    "\n",
    "    def solve(self, exp):\n",
    "        try:\n",
    "            exp = self.fix_expr(exp)\n",
    "            val = sp.sympify(exp, locals=self.funcs)\n",
    "            val = sp.simplify(val)\n",
    "\n",
    "            \n",
    "            if val.free_symbols:\n",
    "                return str(val)\n",
    "            else:\n",
    "                num = float(val)\n",
    "                if num.is_integer():\n",
    "                    return int(num)\n",
    "                else:\n",
    "                    return round(num, 4)  \n",
    "        except Exception as e:\n",
    "            return \"error: \" + str(e)\n",
    "\n",
    "    def start(self):\n",
    "        print(\"Calculator (exit to quit)\")\n",
    "        while True:\n",
    "            q = input(\"Enter Expression: \")\n",
    "            if q.lower().strip() == 'exit':\n",
    "                print(\"Calculator Closed\")\n",
    "                break\n",
    "            print(self.solve(q))\n",
    "\n",
    "\n",
    "if __name__ == \"__main__\":\n",
    "    c = MyCalc()\n",
    "    c.start()\n",
    "\n",
    "\n",
    "\n",
    "\n",
    "\n",
    "\n"
   ]
  }
 ],
 "metadata": {
  "kernelspec": {
   "display_name": "base",
   "language": "python",
   "name": "python3"
  },
  "language_info": {
   "name": "python",
   "version": "3.12.4"
  }
 },
 "nbformat": 4,
 "nbformat_minor": 5
}
