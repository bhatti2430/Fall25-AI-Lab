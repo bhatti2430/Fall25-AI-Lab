{
 "cells": [
  {
   "cell_type": "markdown",
   "id": "68d341a1",
   "metadata": {},
   "source": [
    "### Muhammad Awais Asghar\n",
    "### SU92-BSAIM-F24-065\n",
    "### BSAI-3A"
   ]
  },
  {
   "cell_type": "markdown",
   "id": "d1a68206",
   "metadata": {},
   "source": [
    "### Question No 1:"
   ]
  },
  {
   "cell_type": "code",
   "execution_count": null,
   "id": "93338ed4",
   "metadata": {},
   "outputs": [],
   "source": [
    "import random\n",
    "\n",
    "def fizzbuzz(num):\n",
    "    if num % 3 == 0 and num % 5 == 0:\n",
    "        return \"fizzbuzz\"\n",
    "    elif num % 3 == 0:\n",
    "        return \"fizz\"\n",
    "    elif num % 5 == 0:\n",
    "        return \"buzz\"\n",
    "    else:\n",
    "        return \"number\"\n",
    "\n",
    "def play():\n",
    "    score = 0\n",
    "    previous = 0\n",
    "\n",
    "    print(\"Welcome to the FizzBuzz Game!\")\n",
    "    while True:\n",
    "        current = random.randint(1, 50)\n",
    "        hidden = previous + current\n",
    "\n",
    "        print(f\"\\nRandom number is: {current}\")\n",
    "        guess = input(\"Your guess (fizz/buzz/fizzbuzz/number): \")\n",
    "\n",
    "        correct = fizzbuzz(hidden)\n",
    "        if guess == correct:\n",
    "            print(\"Correct!\")\n",
    "            score += 1\n",
    "            previous = current\n",
    "        else:\n",
    "            print(f\"Wrong! Correct answer was: {correct}\")\n",
    "            print(f\"Hidden number was: {hidden}\")\n",
    "            print(f\"Your score: {score}\")\n",
    "\n",
    "            cont = input(\"\\nDo you want to continue? (yes/no): \")\n",
    "            if cont != \"yes\":\n",
    "                print(f\"\\nFinal Score: {score}\")\n",
    "                break\n",
    "            else:\n",
    "                score = 0\n",
    "                previous = 0\n",
    "                print(\"\\nRestarting the game...\")\n",
    "\n",
    "play()\n"
   ]
  },
  {
   "cell_type": "markdown",
   "id": "01674ac4",
   "metadata": {},
   "source": [
    "### Question No 2:"
   ]
  },
  {
   "cell_type": "code",
   "execution_count": 38,
   "id": "f976dacc",
   "metadata": {},
   "outputs": [
    {
     "name": "stdout",
     "output_type": "stream",
     "text": [
      "ok done\n",
      "Average budget: 190500000.0\n",
      "Movies above average:\n",
      "- Pirates of the Caribbean: On Stranger Tides 379000000 (+ 188500000.0 )above avg\n",
      "- Avengers: Age of Ultron 365000000 (+ 174500000.0 )above avg\n",
      "- Avengers: Endgame 356000000 (+ 165500000.0 )above avg\n",
      "- Incredibles 2 200000000 (+ 9500000.0 )above avg\n",
      "Total above avg: 4\n"
     ]
    }
   ],
   "source": [
    "movies = [\n",
    "    (\"Eternal Sunshine of the Spotless Mind\", 20000000),\n",
    "    (\"Memento\", 9000000),\n",
    "    (\"Requiem for a Dream\", 4500000),\n",
    "    (\"Pirates of the Caribbean: On Stranger Tides\", 379000000),\n",
    "    (\"Avengers: Age of Ultron\", 365000000),\n",
    "    (\"Avengers: Endgame\", 356000000),\n",
    "    (\"Incredibles 2\", 200000000)\n",
    "]\n",
    "\n",
    "while True:\n",
    "    choice = input(\"Do you want to add movie? (yes/no): \").lower()\n",
    "\n",
    "    if choice == \"yes\" or choice == \"y\":\n",
    "        name = input(\"Movie name: \")\n",
    "        budget = input(\"Movie budget: \")\n",
    "        try:\n",
    "            budget = int(budget)\n",
    "        except:\n",
    "            print(\"Not a number, budget set to 0\")\n",
    "            budget = 0\n",
    "        movies.append((name, budget))\n",
    "        print(\"added:\", name, budget)\n",
    "\n",
    "    elif choice == \"no\" or choice == \"n\":\n",
    "        print(\"ok done\")\n",
    "        break\n",
    "    else:\n",
    "        print(\"just type yes or no\")\n",
    "\n",
    "\n",
    "total_budget = sum(b for _, b in movies)\n",
    "avg = total_budget / len(movies)\n",
    "print(\"Average budget:\", avg)\n",
    "\n",
    "print(\"Movies above average:\")\n",
    "above = 0\n",
    "for name, b in movies:\n",
    "    if b > avg:\n",
    "        print(\"-\", name, b, \"(+\", b - avg, \")above avg\")\n",
    "        above += 1\n",
    "\n",
    "print(\"Total above avg:\", above)\n"
   ]
  }
 ],
 "metadata": {
  "kernelspec": {
   "display_name": "base",
   "language": "python",
   "name": "python3"
  },
  "language_info": {
   "codemirror_mode": {
    "name": "ipython",
    "version": 3
   },
   "file_extension": ".py",
   "mimetype": "text/x-python",
   "name": "python",
   "nbconvert_exporter": "python",
   "pygments_lexer": "ipython3",
   "version": "3.12.4"
  }
 },
 "nbformat": 4,
 "nbformat_minor": 5
}
