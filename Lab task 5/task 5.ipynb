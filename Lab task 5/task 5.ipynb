{
 "cells": [
  {
   "cell_type": "code",
   "execution_count": 7,
   "id": "4f543ed2",
   "metadata": {},
   "outputs": [
    {
     "name": "stdout",
     "output_type": "stream",
     "text": [
      "A B D E C "
     ]
    }
   ],
   "source": [
    "def dfs_with_stack(graph, start):\n",
    "    visited = set()\n",
    "    stack = [start]\n",
    "\n",
    "    while stack:\n",
    "        element = stack.pop()\n",
    "        if element not in visited:\n",
    "            print(element, end=\" \")\n",
    "            visited.add(element)\n",
    "            for adj in reversed(graph[element]):\n",
    "                if adj not in visited:\n",
    "                    stack.append(adj)\n",
    "\n",
    "\n",
    "graph_data = {\n",
    "    'A': ['B', 'C'],\n",
    "    'B': ['D', 'E'],\n",
    "    'C': [],\n",
    "    'D': [],\n",
    "    'E': []\n",
    "}\n",
    "\n",
    "dfs_with_stack(graph_data, 'A')\n"
   ]
  },
  {
   "cell_type": "code",
   "execution_count": 25,
   "id": "5c30a5df",
   "metadata": {},
   "outputs": [
    {
     "name": "stdout",
     "output_type": "stream",
     "text": [
      "Preorder DFS:\n",
      "A B D E C F \n",
      "Inorder DFS:\n",
      "D B E A C F \n",
      "Postorder DFS:\n",
      "D E B F C A "
     ]
    }
   ],
   "source": [
    "my_tree = {\n",
    "    'A': {'left': 'B', 'right': 'C'},\n",
    "    'B': {'left': 'D', 'right': 'E'},\n",
    "    'C': {'left': None, 'right': 'F'},\n",
    "    'D': {'left': None, 'right': None},\n",
    "    'E': {'left': None, 'right': None},\n",
    "    'F': {'left': None, 'right': None}\n",
    "}\n",
    "\n",
    "\n",
    "def preorder(tree, start='A'):\n",
    "    if start:\n",
    "        print(start, end=\" \")\n",
    "        preorder(tree, tree[start]['left'])\n",
    "        preorder(tree, tree[start]['right'])\n",
    "\n",
    "\n",
    "def inorder(tree, start='A'):\n",
    "    if start:\n",
    "        inorder(tree, tree[start]['left'])\n",
    "        print(start, end=\" \")\n",
    "        inorder(tree, tree[start]['right'])\n",
    "\n",
    "\n",
    "def postorder(tree, start='A'):\n",
    "    if start:\n",
    "        postorder(tree, tree[start]['left'])\n",
    "        postorder(tree, tree[start]['right'])\n",
    "        print(start, end=\" \")\n",
    "\n",
    "\n",
    "print(\"Preorder DFS:\")\n",
    "preorder(my_tree)\n",
    "\n",
    "print(\"\\nInorder DFS:\")\n",
    "inorder(my_tree)\n",
    "\n",
    "print(\"\\nPostorder DFS:\")\n",
    "postorder(my_tree)\n"
   ]
  }
 ],
 "metadata": {
  "kernelspec": {
   "display_name": "base",
   "language": "python",
   "name": "python3"
  },
  "language_info": {
   "codemirror_mode": {
    "name": "ipython",
    "version": 3
   },
   "file_extension": ".py",
   "mimetype": "text/x-python",
   "name": "python",
   "nbconvert_exporter": "python",
   "pygments_lexer": "ipython3",
   "version": "3.12.4"
  }
 },
 "nbformat": 4,
 "nbformat_minor": 5
}
