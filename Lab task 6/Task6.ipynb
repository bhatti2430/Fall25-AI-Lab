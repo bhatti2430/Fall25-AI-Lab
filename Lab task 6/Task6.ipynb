{
 "cells": [
  {
   "cell_type": "markdown",
   "id": "355a0ec2",
   "metadata": {},
   "source": [
    "## **__Muhammad Awais Asghar__**\n",
    "## **__SU92-BSAIM-F24-065__**\n",
    "## **__BSAI-3A__**"
   ]
  },
  {
   "cell_type": "markdown",
   "id": "99366d3a",
   "metadata": {},
   "source": [
    "## **__Question 1__**"
   ]
  },
  {
   "cell_type": "code",
   "execution_count": 9,
   "id": "38289160",
   "metadata": {},
   "outputs": [
    {
     "name": "stdout",
     "output_type": "stream",
     "text": [
      "A B C D E F "
     ]
    }
   ],
   "source": [
    "def bfs_without_queue(graph, start):\n",
    "    visited = set()\n",
    "    container = [start]\n",
    "    \n",
    "    while container:\n",
    "        element = container[0]\n",
    "        container = container[1:]\n",
    "        \n",
    "        if element not in visited:\n",
    "            print(element, end=\" \")\n",
    "            visited.add(element)\n",
    "            \n",
    "            for friend in graph[element]:\n",
    "                if friend not in visited:\n",
    "                    container.append(friend)\n",
    "\n",
    "graph_data = {\n",
    "    'A': ['B', 'C'],\n",
    "    'B': ['D', 'E'],\n",
    "    'C': ['F'],\n",
    "    'D': [],\n",
    "    'E': ['F'],\n",
    "    'F': []\n",
    "}\n",
    "\n",
    "bfs_without_queue(graph_data, 'A')\n"
   ]
  },
  {
   "cell_type": "markdown",
   "id": "f3a475ff",
   "metadata": {},
   "source": [
    "## **__Question 2__**"
   ]
  },
  {
   "cell_type": "code",
   "execution_count": 8,
   "id": "27faf9bb",
   "metadata": {},
   "outputs": [
    {
     "name": "stdout",
     "output_type": "stream",
     "text": [
      "A B C D E F "
     ]
    }
   ],
   "source": [
    "def bfs_with_queue(graph, start):\n",
    "    visited = set()\n",
    "    queue = [start]\n",
    "    \n",
    "    while queue:\n",
    "        element = queue.pop(0)\n",
    "        if element not in visited:\n",
    "            print(element, end=\" \")\n",
    "            visited.add(element)\n",
    "            \n",
    "            for friend in graph[element]:\n",
    "                if friend not in visited:\n",
    "                    queue.append(friend)\n",
    "\n",
    "graph_data = {\n",
    "    'A': ['B', 'C'],\n",
    "    'B': ['D', 'E'],\n",
    "    'C': ['F'],\n",
    "    'D': [],\n",
    "    'E': ['F'],\n",
    "    'F': []\n",
    "}\n",
    "\n",
    "bfs_with_queue(graph_data, 'A')\n"
   ]
  }
 ],
 "metadata": {
  "kernelspec": {
   "display_name": "base",
   "language": "python",
   "name": "python3"
  },
  "language_info": {
   "codemirror_mode": {
    "name": "ipython",
    "version": 3
   },
   "file_extension": ".py",
   "mimetype": "text/x-python",
   "name": "python",
   "nbconvert_exporter": "python",
   "pygments_lexer": "ipython3",
   "version": "3.12.4"
  }
 },
 "nbformat": 4,
 "nbformat_minor": 5
}
