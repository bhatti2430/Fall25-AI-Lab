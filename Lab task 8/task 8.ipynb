{
 "cells": [
  {
   "cell_type": "code",
   "execution_count": 7,
   "id": "cf9e11eb",
   "metadata": {},
   "outputs": [
    {
     "name": "stdout",
     "output_type": "stream",
     "text": [
      "The optimal value is: 5\n"
     ]
    }
   ],
   "source": [
    "import math\n",
    "\n",
    "def minimax(depth, index, isMaximizer, scores, maxDepth):\n",
    "    if depth == maxDepth:\n",
    "        return scores[index]\n",
    "    if isMaximizer:\n",
    "        left = minimax(depth + 1, index * 2, False, scores, maxDepth)\n",
    "        right = minimax(depth + 1, index * 2 + 1, False, scores, maxDepth)\n",
    "        return max(left, right)\n",
    "    else:\n",
    "        left = minimax(depth + 1, index * 2, True, scores, maxDepth)\n",
    "        right = minimax(depth + 1, index * 2 + 1, True, scores, maxDepth)\n",
    "        return min(left, right)\n",
    "\n",
    "scores = [3, 5, 2, 9, 3, 5, 2, 9]\n",
    "maxDepth = math.log(len(scores), 2)\n",
    "optimal_value = minimax(0, 0, True, scores, maxDepth)\n",
    "print(\"The optimal value is:\", optimal_value)\n"
   ]
  }
 ],
 "metadata": {
  "kernelspec": {
   "display_name": "Python 3",
   "language": "python",
   "name": "python3"
  },
  "language_info": {
   "codemirror_mode": {
    "name": "ipython",
    "version": 3
   },
   "file_extension": ".py",
   "mimetype": "text/x-python",
   "name": "python",
   "nbconvert_exporter": "python",
   "pygments_lexer": "ipython3",
   "version": "3.14.0"
  }
 },
 "nbformat": 4,
 "nbformat_minor": 5
}
