{
 "cells": [
  {
   "cell_type": "markdown",
   "id": "13d7aef6",
   "metadata": {},
   "source": [
    "## **__Muhammad Awais Asghar__**\n",
    "## **__SU92-BSAIM-F24-065__**\n",
    "## **__BSAI-3A__**"
   ]
  },
  {
   "cell_type": "markdown",
   "id": "fa32cce4",
   "metadata": {},
   "source": [
    "## **__Question 1__**"
   ]
  },
  {
   "cell_type": "code",
   "execution_count": 10,
   "id": "20bfd747",
   "metadata": {},
   "outputs": [
    {
     "name": "stdout",
     "output_type": "stream",
     "text": [
      "Luhn check result:\n",
      "Valid\n",
      "\n",
      "Checking number:\n",
      "5 8 9 3 8 0 4 1 1 5 4 5 7 2 8 9\n",
      "\n",
      "After removing last digit (check digit):\n",
      "5 8 9 3 8 0 4 1 1 5 4 5 7 2 8 (removed 9)\n",
      "\n",
      "Reversed digits:\n",
      "8 2 7 5 4 5 1 1 4 0 8 3 9 8 5\n",
      "\n",
      "After doubling even-index digits:\n",
      "16 2 14 5 8 5 2 1 8 0 16 3 18 8 10\n",
      "\n",
      "After subtracting 9 where needed:\n",
      "7 2 5 5 8 5 2 1 8 0 7 3 9 8 1\n",
      "\n",
      "Sum of adjusted digits =\n",
      "71\n",
      "Adding check digit 9 =\n",
      "80\n",
      "\n",
      "Final Result:\n",
      "Valid \n",
      "Exiting program \n"
     ]
    }
   ],
   "source": [
    "def luhn_check(number: str):\n",
    "    digits = [int(ch) for ch in number if ch.isdigit()]\n",
    "    if len(digits) < 2:\n",
    "        return False\n",
    "\n",
    "    check_digit = digits[-1]\n",
    "    remaining = digits[:-1]\n",
    "    reversed_remaining = remaining[::-1]\n",
    "\n",
    "    total = 0\n",
    "    for i, d in enumerate(reversed_remaining):\n",
    "        if i % 2 == 0:\n",
    "            d *= 2\n",
    "            if d > 9:\n",
    "                d -= 9\n",
    "        total += d\n",
    "\n",
    "    total += check_digit\n",
    "    return total % 10 == 0\n",
    "\n",
    "\n",
    "def luhn_explain(number: str):\n",
    "    digits = [int(ch) for ch in number if ch.isdigit()]\n",
    "    if len(digits) < 2:\n",
    "        print(\"Input must contain at least two digits.\")\n",
    "        return\n",
    "\n",
    "    print(\"\\nChecking number:\")\n",
    "    print(\" \".join(str(d) for d in digits))\n",
    "\n",
    "    check_digit = digits[-1]\n",
    "    remaining = digits[:-1]\n",
    "    print(\"\\nAfter removing last digit (check digit):\")\n",
    "    print(\" \".join(str(d) for d in remaining), f\"(removed {check_digit})\")\n",
    "\n",
    "    reversed_remaining = remaining[::-1]\n",
    "    print(\"\\nReversed digits:\")\n",
    "    print(\" \".join(str(d) for d in reversed_remaining))\n",
    "\n",
    "    doubled = []\n",
    "    for i, d in enumerate(reversed_remaining):\n",
    "        if i % 2 == 0:\n",
    "            doubled.append(d * 2)\n",
    "        else:\n",
    "            doubled.append(d)\n",
    "    print(\"\\nAfter doubling even-index digits:\")\n",
    "    print(\" \".join(str(x) for x in doubled))\n",
    "\n",
    "    adjusted = [x - 9 if x > 9 else x for x in doubled]\n",
    "    print(\"\\nAfter subtracting 9 where needed:\")\n",
    "    print(\" \".join(str(x) for x in adjusted))\n",
    "\n",
    "    subtotal = sum(adjusted)\n",
    "    total = subtotal + check_digit\n",
    "    print(\"\\nSum of adjusted digits =\")\n",
    "    print(subtotal)\n",
    "    print(\"Adding check digit\", check_digit, \"=\")\n",
    "    print(total)\n",
    "\n",
    "    print(\"\\nFinal Result:\")\n",
    "    print(\"Valid \" if total % 10 == 0 else \"Invalid \")\n",
    "\n",
    "\n",
    "while True:\n",
    "    num = input(\"\\nEnter a card number (or 'q' to quit): \")\n",
    "    if num.lower() == 'q':\n",
    "        print(\"Exiting program \")\n",
    "        break\n",
    "\n",
    "    print(\"Luhn check result:\")\n",
    "    print(\"Valid\" if luhn_check(num) else \"Invalid\")\n",
    "    luhn_explain(num)\n"
   ]
  },
  {
   "cell_type": "markdown",
   "id": "26ed57c8",
   "metadata": {},
   "source": [
    "## **__Question 2__**"
   ]
  },
  {
   "cell_type": "code",
   "execution_count": 6,
   "id": "3e9061d7",
   "metadata": {},
   "outputs": [
    {
     "name": "stdout",
     "output_type": "stream",
     "text": [
      "KuchBhiKuchBhi\n"
     ]
    }
   ],
   "source": [
    "text = \"Kuch, Bhi; Kuch? Bhi!\"\n",
    "result = \"\"\n",
    "\n",
    "for char in text:\n",
    "    if char.isalnum():\n",
    "        result += char\n",
    "\n",
    "print(result)\n"
   ]
  },
  {
   "cell_type": "markdown",
   "id": "e7bcfbb0",
   "metadata": {},
   "source": [
    "## **__Question 3__**"
   ]
  },
  {
   "cell_type": "code",
   "execution_count": 9,
   "id": "04b0b67a",
   "metadata": {},
   "outputs": [
    {
     "name": "stdout",
     "output_type": "stream",
     "text": [
      "By words: Awais I am\n",
      "By characters: AIaaimsw\n"
     ]
    }
   ],
   "source": [
    "def bubble_sort(arr):\n",
    "    n = len(arr)\n",
    "    for i in range(n):\n",
    "        for j in range(n-i-1):\n",
    "            if arr[j] > arr[j+1]:\n",
    "                arr[j], arr[j+1] = arr[j+1], arr[j]\n",
    "    return arr\n",
    "\n",
    "text = \"I am Awais\"\n",
    "\n",
    "words = text.split()\n",
    "words = bubble_sort(words.copy())\n",
    "print(\"By words:\", \" \".join(words))\n",
    "\n",
    "chars = list(text.replace(\" \", \"\"))\n",
    "chars = bubble_sort(chars.copy())\n",
    "print(\"By characters:\", \"\".join(chars))\n"
   ]
  }
 ],
 "metadata": {
  "kernelspec": {
   "display_name": "base",
   "language": "python",
   "name": "python3"
  },
  "language_info": {
   "codemirror_mode": {
    "name": "ipython",
    "version": 3
   },
   "file_extension": ".py",
   "mimetype": "text/x-python",
   "name": "python",
   "nbconvert_exporter": "python",
   "pygments_lexer": "ipython3",
   "version": "3.12.4"
  }
 },
 "nbformat": 4,
 "nbformat_minor": 5
}
