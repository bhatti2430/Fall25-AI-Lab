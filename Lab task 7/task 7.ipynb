{
 "cells": [
  {
   "cell_type": "code",
   "execution_count": 3,
   "id": "328a37f0",
   "metadata": {},
   "outputs": [
    {
     "name": "stdout",
     "output_type": "stream",
     "text": [
      "Shortest Path: ['A', 'B', 'D']\n",
      "Total Cost: 6\n"
     ]
    }
   ],
   "source": [
    "from collections import deque\n",
    "\n",
    "class Graph:\n",
    "    def __init__(self, adjacency_list):\n",
    "        self.adjacency_list = adjacency_list\n",
    "\n",
    "    def get_neighbors(self, node):\n",
    "        return self.adjacency_list.get(node, [])\n",
    "\n",
    "    def h(self, node):\n",
    "        H = {'A': 1, 'B': 1, 'C': 1, 'D': 1}\n",
    "        return H.get(node, 0)\n",
    "\n",
    "    def a_star(self, start, goal):\n",
    "        open_list = deque([start])\n",
    "        closed_list = set()\n",
    "        g = {start: 0}\n",
    "        parents = {start: None}\n",
    "\n",
    "        while open_list:\n",
    "            n = min(open_list, key=lambda node: g[node] + self.h(node))\n",
    "\n",
    "            if n == goal:\n",
    "                path = []\n",
    "                while n is not None:\n",
    "                    path.append(n)\n",
    "                    n = parents[n]\n",
    "                path.reverse()\n",
    "                return path, g[goal]\n",
    "\n",
    "            open_list.remove(n)\n",
    "            closed_list.add(n)\n",
    "\n",
    "            for neighbor, cost in self.get_neighbors(n):\n",
    "                if neighbor in closed_list:\n",
    "                    continue\n",
    "\n",
    "                tentative_g = g[n] + cost\n",
    "\n",
    "                if neighbor not in open_list or tentative_g < g.get(neighbor, float('inf')):\n",
    "                    parents[neighbor] = n\n",
    "                    g[neighbor] = tentative_g\n",
    "\n",
    "                    if neighbor not in open_list:\n",
    "                        open_list.append(neighbor)\n",
    "\n",
    "        print(\"Path does not exist!\")\n",
    "        return None, float('inf')\n",
    "\n",
    "adjacency_list = {\n",
    "    'A': [('B', 1), ('C', 3), ('D', 7)],\n",
    "    'B': [('D', 5)],\n",
    "    'C': [('D', 12)],\n",
    "    'D': []\n",
    "}\n",
    "\n",
    "graph = Graph(adjacency_list)\n",
    "path, cost = graph.a_star('A', 'D')\n",
    "\n",
    "print(\"Shortest Path:\", path)\n",
    "print(\"Total Cost:\", cost)\n"
   ]
  }
 ],
 "metadata": {
  "kernelspec": {
   "display_name": "base",
   "language": "python",
   "name": "python3"
  },
  "language_info": {
   "codemirror_mode": {
    "name": "ipython",
    "version": 3
   },
   "file_extension": ".py",
   "mimetype": "text/x-python",
   "name": "python",
   "nbconvert_exporter": "python",
   "pygments_lexer": "ipython3",
   "version": "3.13.5"
  }
 },
 "nbformat": 4,
 "nbformat_minor": 5
}
